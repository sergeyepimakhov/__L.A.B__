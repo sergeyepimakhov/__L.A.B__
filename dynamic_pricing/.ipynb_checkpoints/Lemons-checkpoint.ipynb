{
 "cells": [
  {
   "cell_type": "markdown",
   "metadata": {},
   "source": [
    "# Pricing Strategy to Maximize Revenue or How to sell Lemonade on the street\n",
    "\n",
    "Based on [this link](https://www.datascience.com/resources/notebooks/python-dynamic-pricing)\n",
    "\n",
    "Perfect scenario to show price optimization. \n",
    "\n",
    "- **Time-dated items:** A certain amount of time, say between 9 and 19 o'clock (10 hours)\n",
    "- **Perishable capacity with no salvage value:** Lemonade will go bad and coulnd't be sell next day (even at discount!).\n",
    "- **No competing products:** Let assume monopolistic situation.\n",
    "- **Absence of inventory replenishment:** Lemons and sugar will be bouth once a day. "
   ]
  },
  {
   "cell_type": "code",
   "execution_count": null,
   "metadata": {},
   "outputs": [],
   "source": []
  }
 ],
 "metadata": {
  "kernelspec": {
   "display_name": "Python 3",
   "language": "python",
   "name": "python3"
  },
  "language_info": {
   "codemirror_mode": {
    "name": "ipython",
    "version": 3
   },
   "file_extension": ".py",
   "mimetype": "text/x-python",
   "name": "python",
   "nbconvert_exporter": "python",
   "pygments_lexer": "ipython3",
   "version": "3.7.1"
  }
 },
 "nbformat": 4,
 "nbformat_minor": 2
}

{
 "cells": [
  {
   "cell_type": "markdown",
   "metadata": {},
   "source": [
    "# Pricing Strategy to Maximize Revenue or How to sell Lemonade on the street\n",
    "\n",
    "Based on [this link](https://www.datascience.com/resources/notebooks/python-dynamic-pricing)\n",
    "\n",
    "Perfect scenario to show price optimization. \n",
    "\n",
    "- **Time-dated items:** A certain amount of time, say between 9 and 19 o'clock (10 hours)\n",
    "- **Perishable capacity with no salvage value:** Lemonade will go bad and coulnd't be sell next day (even at discount!).\n",
    "- **No competing products:** Let assume monopolistic situation.\n",
    "- **Absence of inventory replenishment:** Lemons and sugar will be bougth once a day. \n",
    "\n",
    "Some another assumpations:\n",
    "- **An infinite number of customers.**\n",
    "\n",
    "Let's suppose we have an initial inventory of s0 = 150 glasses of lemonade. These 150 glasses cost us a total of C0 = 150 dollars in lemons, sugar, water, and plastic cups. "
   ]
  },
  {
   "cell_type": "code",
   "execution_count": null,
   "metadata": {},
   "outputs": [],
   "source": []
  }
 ],
 "metadata": {
  "kernelspec": {
   "display_name": "Python 3",
   "language": "python",
   "name": "python3"
  },
  "language_info": {
   "codemirror_mode": {
    "name": "ipython",
    "version": 3
   },
   "file_extension": ".py",
   "mimetype": "text/x-python",
   "name": "python",
   "nbconvert_exporter": "python",
   "pygments_lexer": "ipython3",
   "version": "3.7.1"
  }
 },
 "nbformat": 4,
 "nbformat_minor": 2
}
